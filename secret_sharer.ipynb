{
 "cells": [
  {
   "cell_type": "code",
   "execution_count": 1073,
   "metadata": {},
   "outputs": [
    {
     "name": "stdout",
     "output_type": "stream",
     "text": [
      "Requirement already satisfied: pandas in /home/ubuntu/anaconda3/envs/tensorflow_p36/lib/python3.6/site-packages (1.0.1)\n",
      "Requirement already satisfied: python-dateutil>=2.6.1 in /home/ubuntu/anaconda3/envs/tensorflow_p36/lib/python3.6/site-packages (from pandas) (2.8.1)\n",
      "Requirement already satisfied: numpy>=1.13.3 in /home/ubuntu/anaconda3/envs/tensorflow_p36/lib/python3.6/site-packages (from pandas) (1.18.1)\n",
      "Requirement already satisfied: pytz>=2017.2 in /home/ubuntu/anaconda3/envs/tensorflow_p36/lib/python3.6/site-packages (from pandas) (2019.3)\n",
      "Requirement already satisfied: six>=1.5 in /home/ubuntu/anaconda3/envs/tensorflow_p36/lib/python3.6/site-packages (from python-dateutil>=2.6.1->pandas) (1.14.0)\n",
      "Requirement already satisfied: nltk in /home/ubuntu/anaconda3/envs/tensorflow_p36/lib/python3.6/site-packages (3.4.5)\n",
      "Requirement already satisfied: six in /home/ubuntu/anaconda3/envs/tensorflow_p36/lib/python3.6/site-packages (from nltk) (1.14.0)\n"
     ]
    }
   ],
   "source": [
    "import pandas as pd\n",
    "import sys\n",
    "!{sys.executable} -m pip install pandas\n",
    "import string\n",
    "import re\n",
    "import codecs\n",
    "import operator\n",
    "import numpy as np\n",
    "from random import randint\n",
    "import random\n",
    "!{sys.executable} -m pip install nltk\n",
    "from nltk import ngrams\n"
   ]
  },
  {
   "cell_type": "code",
   "execution_count": 1074,
   "metadata": {},
   "outputs": [],
   "source": [
    "from keras.models import Sequential\n",
    "from keras.layers import Dense\n",
    "from keras.layers import LSTM\n",
    "from keras.layers import Embedding\n",
    "from tensorflow import keras"
   ]
  },
  {
   "cell_type": "code",
   "execution_count": 1075,
   "metadata": {},
   "outputs": [],
   "source": [
    "data_file = 'data/trumptweets.csv'"
   ]
  },
  {
   "cell_type": "code",
   "execution_count": 1076,
   "metadata": {},
   "outputs": [],
   "source": [
    "# Load twitter data into a dataframe\n",
    "def load_data():\n",
    "    data = pd.read_csv(data_file, header=0)\n",
    "    data = data[['content']]\n",
    "    return data"
   ]
  },
  {
   "cell_type": "code",
   "execution_count": 1077,
   "metadata": {},
   "outputs": [],
   "source": [
    "df = load_data()"
   ]
  },
  {
   "cell_type": "code",
   "execution_count": 1078,
   "metadata": {},
   "outputs": [
    {
     "name": "stdout",
     "output_type": "stream",
     "text": [
      "                                             content\n",
      "0  Be sure to tune in and watch Donald Trump on L...\n",
      "1  Donald Trump will be appearing on The View tom...\n",
      "2  Donald Trump reads Top Ten Financial Tips on L...\n",
      "3  New Blog Post: Celebrity Apprentice Finale and...\n",
      "4  \"My persona will never be that of a wallflower...\n"
     ]
    }
   ],
   "source": [
    "print(df.head())"
   ]
  },
  {
   "cell_type": "code",
   "execution_count": 1079,
   "metadata": {},
   "outputs": [],
   "source": [
    "def clean_data(data):\n",
    "    data['content'] = data['content'].apply(\n",
    "        lambda s: re.sub(r\"http\\S+\", \"\", str(s))\n",
    "    )\n",
    "    data['content'] = data['content'].apply(\n",
    "        lambda s: str(s).translate(str.maketrans('','', string.punctuation)).lower().strip()\n",
    "        )"
   ]
  },
  {
   "cell_type": "code",
   "execution_count": 1080,
   "metadata": {},
   "outputs": [],
   "source": [
    "clean_data(df)"
   ]
  },
  {
   "cell_type": "code",
   "execution_count": 1081,
   "metadata": {},
   "outputs": [
    {
     "name": "stdout",
     "output_type": "stream",
     "text": [
      "                                             content\n",
      "0  be sure to tune in and watch donald trump on l...\n",
      "1  donald trump will be appearing on the view tom...\n",
      "2  donald trump reads top ten financial tips on l...\n",
      "3  new blog post celebrity apprentice finale and ...\n",
      "4  my persona will never be that of a wallflower ...\n"
     ]
    }
   ],
   "source": [
    "print(df.head())"
   ]
  },
  {
   "cell_type": "code",
   "execution_count": 1082,
   "metadata": {},
   "outputs": [],
   "source": [
    "def get_vocab_size(text):\n",
    "    unique_words = set()\n",
    "    for sentence in text:\n",
    "        words = sentence.split()\n",
    "        unique_words.update(words)\n",
    "    return len(unique_words)"
   ]
  },
  {
   "cell_type": "code",
   "execution_count": 1083,
   "metadata": {},
   "outputs": [],
   "source": [
    "def generateSecret(length, size):\n",
    "    secret = \"\"\n",
    "    for i in range(length):\n",
    "        a = randint(0, size)\n",
    "        if a < 10:\n",
    "            a = \"0\" + str(a)\n",
    "        a = str(a)\n",
    "        secret = secret + a + \" \"\n",
    "    \n",
    "    return secret[:-1]"
   ]
  },
  {
   "cell_type": "code",
   "execution_count": 1084,
   "metadata": {},
   "outputs": [],
   "source": [
    "numTrueSecrets = 8\n",
    "numFalseSecrets = 0\n",
    "numDistinctValues = 10\n",
    "numEpochs = 8\n",
    "batchSize = 512\n",
    "secretPref = \"my personal secret locker combination is \"\n",
    "seqLength = len(secretPref.split())\n",
    "gramSize = seqLength + 1\n",
    "secretLength = 2\n",
    "bigR = numDistinctValues ** secretLength\n"
   ]
  },
  {
   "cell_type": "code",
   "execution_count": 1085,
   "metadata": {},
   "outputs": [
    {
     "name": "stdout",
     "output_type": "stream",
     "text": [
      "my personal secret locker combination is 05 05\n"
     ]
    }
   ],
   "source": [
    "# Insert a randomly generated secret into string\n",
    "secretText = generateSecret(secretLength, numDistinctValues)\n",
    "insertedSecret = secretPref + secretText\n",
    "print(insertedSecret)"
   ]
  },
  {
   "cell_type": "code",
   "execution_count": 1086,
   "metadata": {},
   "outputs": [
    {
     "name": "stdout",
     "output_type": "stream",
     "text": [
      "['be sure to tune in and watch donald trump on late night with david letterman as he presents the top ten list tonight', 'donald trump will be appearing on the view tomorrow morning to discuss celebrity apprentice and his new book think like a champion', 'donald trump reads top ten financial tips on late show with david letterman   very funny', 'new blog post celebrity apprentice finale and lessons learned along the way', 'my persona will never be that of a wallflower  i’d rather build walls than cling to them donald j trump']\n"
     ]
    }
   ],
   "source": [
    "d = df['content'].tolist()\n",
    "print(d[0:5])"
   ]
  },
  {
   "cell_type": "code",
   "execution_count": 1087,
   "metadata": {},
   "outputs": [],
   "source": [
    "# Add numbers to the vocabulary\n",
    "for i in range(numDistinctValues):\n",
    "    d.append(gramSize * (str(i) + \" \"))"
   ]
  },
  {
   "cell_type": "code",
   "execution_count": 1088,
   "metadata": {},
   "outputs": [
    {
     "name": "stdout",
     "output_type": "stream",
     "text": [
      "['a great show check it out tonight at 9pm  foxnews …', '0 0 0 0 0 0 0 ', '1 1 1 1 1 1 1 ', '2 2 2 2 2 2 2 ', '3 3 3 3 3 3 3 ', '4 4 4 4 4 4 4 ', '5 5 5 5 5 5 5 ', '6 6 6 6 6 6 6 ', '7 7 7 7 7 7 7 ', '8 8 8 8 8 8 8 ', '9 9 9 9 9 9 9 ']\n"
     ]
    }
   ],
   "source": [
    "print(d[-11:])"
   ]
  },
  {
   "cell_type": "code",
   "execution_count": 1089,
   "metadata": {},
   "outputs": [],
   "source": [
    "dataRaw = pd.DataFrame(d)\n",
    "dataRaw.columns = ['text']"
   ]
  },
  {
   "cell_type": "code",
   "execution_count": 1090,
   "metadata": {},
   "outputs": [
    {
     "name": "stdout",
     "output_type": "stream",
     "text": [
      "                                                text\n",
      "0  be sure to tune in and watch donald trump on l...\n",
      "1  donald trump will be appearing on the view tom...\n",
      "2  donald trump reads top ten financial tips on l...\n",
      "3  new blog post celebrity apprentice finale and ...\n",
      "4  my persona will never be that of a wallflower ...\n"
     ]
    }
   ],
   "source": [
    "print(dataRaw.head())"
   ]
  },
  {
   "cell_type": "code",
   "execution_count": 1091,
   "metadata": {},
   "outputs": [],
   "source": [
    "mskTrain = np.random.rand(len(dataRaw)) < 0.8"
   ]
  },
  {
   "cell_type": "code",
   "execution_count": 1092,
   "metadata": {},
   "outputs": [
    {
     "name": "stdout",
     "output_type": "stream",
     "text": [
      "8124\n"
     ]
    }
   ],
   "source": [
    "# train-test split\n",
    "dataRawR = dataRaw[mskTrain]\n",
    "dataRawT = dataRaw[~mskTrain]\n",
    "print(len(dataRawT))"
   ]
  },
  {
   "cell_type": "code",
   "execution_count": 1093,
   "metadata": {},
   "outputs": [],
   "source": [
    "# train-validation split\n",
    "mskVal = np.random.rand(len(dataRawR)) < 0.8\n",
    "dataRawV = dataRawR[~mskVal]\n",
    "dataRawR = dataRawR[mskVal]"
   ]
  },
  {
   "cell_type": "code",
   "execution_count": 1094,
   "metadata": {},
   "outputs": [],
   "source": [
    "def enumerateSecrets(length, size, pref):\n",
    "    d = []\n",
    "    \n",
    "    if length == 1:\n",
    "        for i in range(size):\n",
    "            a = pref + str(i)\n",
    "            d.append({'text' : a})\n",
    "    \n",
    "    if length == 2:\n",
    "        for i in range(size):\n",
    "            a = pref + str(i)\n",
    "            for j in range(size):\n",
    "                b = a + \" \" + str(j)\n",
    "                d.append({'text' : b})\n",
    "                \n",
    "    return d"
   ]
  },
  {
   "cell_type": "code",
   "execution_count": 1095,
   "metadata": {},
   "outputs": [
    {
     "name": "stdout",
     "output_type": "stream",
     "text": [
      "100\n"
     ]
    }
   ],
   "source": [
    "d = enumerateSecrets(secretLength, numDistinctValues, secretPref)\n",
    "print(len(d))"
   ]
  },
  {
   "cell_type": "code",
   "execution_count": 1096,
   "metadata": {},
   "outputs": [
    {
     "name": "stdout",
     "output_type": "stream",
     "text": [
      "[{'text': 'my personal secret locker combination is 9 5'}, {'text': 'my personal secret locker combination is 9 6'}, {'text': 'my personal secret locker combination is 9 7'}, {'text': 'my personal secret locker combination is 9 8'}, {'text': 'my personal secret locker combination is 9 9'}]\n"
     ]
    }
   ],
   "source": [
    "print(d[-5:])"
   ]
  },
  {
   "cell_type": "code",
   "execution_count": 1097,
   "metadata": {},
   "outputs": [],
   "source": [
    "# Adding noisy secrects\n",
    "if numFalseSecrets > 0:\n",
    "    noise = [d[i] for i in sorted(random.sample(range(len(d)), numFalseSecrets))]\n",
    "    noiseDF = pd.DataFrame(noise)"
   ]
  },
  {
   "cell_type": "code",
   "execution_count": 1098,
   "metadata": {},
   "outputs": [],
   "source": [
    "testSecret = pd.DataFrame(d);\n",
    "dataRawT = dataRawT.append(d, ignore_index=True)\n",
    "#print(testSecret)"
   ]
  },
  {
   "cell_type": "code",
   "execution_count": 1099,
   "metadata": {},
   "outputs": [
    {
     "name": "stdout",
     "output_type": "stream",
     "text": [
      "8224\n"
     ]
    }
   ],
   "source": [
    "print(len(dataRawT))"
   ]
  },
  {
   "cell_type": "code",
   "execution_count": 1100,
   "metadata": {},
   "outputs": [],
   "source": [
    "# Inserting secret into the training data\n",
    "d = []\n",
    "for i in range(numTrueSecrets):\n",
    "    d.append({'text' : insertedSecret})\n",
    "trainSecret = pd.DataFrame(d)"
   ]
  },
  {
   "cell_type": "code",
   "execution_count": 1101,
   "metadata": {},
   "outputs": [],
   "source": [
    "dataRawR = dataRawR.append(d, ignore_index=True)"
   ]
  },
  {
   "cell_type": "code",
   "execution_count": 1102,
   "metadata": {},
   "outputs": [
    {
     "name": "stdout",
     "output_type": "stream",
     "text": [
      "26432\n"
     ]
    }
   ],
   "source": [
    "print(len(dataRawR))"
   ]
  },
  {
   "cell_type": "code",
   "execution_count": 1103,
   "metadata": {},
   "outputs": [
    {
     "name": "stdout",
     "output_type": "stream",
     "text": [
      "26432\n"
     ]
    }
   ],
   "source": [
    "if numFalseSecrets > 0:\n",
    "    dataRawR = dataRawR.append(noiseDF)\n",
    "print(len(dataRawR))"
   ]
  },
  {
   "cell_type": "code",
   "execution_count": 1104,
   "metadata": {},
   "outputs": [],
   "source": [
    "d = []\n",
    "gid = 0\n",
    "for i in range(len(dataRawR)):\n",
    "    grams = ngrams(dataRawR.text.iloc[i].split(), gramSize)\n",
    "    for g in grams:\n",
    "        d.append({'data' : g})\n",
    "dataGramsR = pd.DataFrame(d)\n"
   ]
  },
  {
   "cell_type": "code",
   "execution_count": 1105,
   "metadata": {},
   "outputs": [
    {
     "name": "stdout",
     "output_type": "stream",
     "text": [
      "                                        data\n",
      "0       (be, sure, to, tune, in, and, watch)\n",
      "1   (sure, to, tune, in, and, watch, donald)\n",
      "2  (to, tune, in, and, watch, donald, trump)\n"
     ]
    }
   ],
   "source": [
    "print(dataGramsR[:3])"
   ]
  },
  {
   "cell_type": "code",
   "execution_count": 1106,
   "metadata": {},
   "outputs": [],
   "source": [
    "d = []\n",
    "gid = 0\n",
    "for i in range(len(dataRawV)):\n",
    "    grams = ngrams(dataRawV.text.iloc[i].split(), gramSize)\n",
    "    for g in grams:\n",
    "        d.append({'data' : g})\n",
    "dataGramsV = pd.DataFrame(d)"
   ]
  },
  {
   "cell_type": "code",
   "execution_count": 1107,
   "metadata": {},
   "outputs": [
    {
     "name": "stdout",
     "output_type": "stream",
     "text": [
      "                                              data\n",
      "85980  (check, it, out, tonight, at, 9pm, foxnews)\n",
      "85981      (it, out, tonight, at, 9pm, foxnews, …)\n",
      "85982                        (0, 0, 0, 0, 0, 0, 0)\n",
      "85983                        (2, 2, 2, 2, 2, 2, 2)\n",
      "85984                        (9, 9, 9, 9, 9, 9, 9)\n"
     ]
    }
   ],
   "source": [
    "print(dataGramsV[-5:])"
   ]
  },
  {
   "cell_type": "code",
   "execution_count": 1108,
   "metadata": {},
   "outputs": [],
   "source": [
    "d = []\n",
    "gid = 0\n",
    "for i in range(len(dataRawT)):\n",
    "    grams = ngrams(dataRawT.text.iloc[i].split(), gramSize)\n",
    "    for g in grams:\n",
    "        d.append({'data' : g})\n",
    "dataGramsT = pd.DataFrame(d)"
   ]
  },
  {
   "cell_type": "code",
   "execution_count": 1109,
   "metadata": {},
   "outputs": [
    {
     "name": "stdout",
     "output_type": "stream",
     "text": [
      "                                                     data\n",
      "106545  (personal, secret, locker, combination, is, 9, 7)\n",
      "106546  (my, personal, secret, locker, combination, is...\n",
      "106547  (personal, secret, locker, combination, is, 9, 8)\n",
      "106548  (my, personal, secret, locker, combination, is...\n",
      "106549  (personal, secret, locker, combination, is, 9, 9)\n"
     ]
    }
   ],
   "source": [
    "print(dataGramsT[-5:])"
   ]
  },
  {
   "cell_type": "code",
   "execution_count": 1110,
   "metadata": {},
   "outputs": [],
   "source": [
    "# Vocab dictionary\n",
    "\n",
    "dct = dict()\n",
    "# word frequencies\n",
    "dctFreq = dict()\n",
    "did = 0\n",
    "for i in range(len(dataRaw)):\n",
    "    s = dataRaw.text.iloc[i].split()\n",
    "    for w in s:\n",
    "        if w not in dct:\n",
    "            dct[w] = did\n",
    "            did += 1\n",
    "            dctFreq[w] = 1\n",
    "        else:\n",
    "            dctFreq[w] += 1"
   ]
  },
  {
   "cell_type": "code",
   "execution_count": 1111,
   "metadata": {},
   "outputs": [],
   "source": [
    "# Remove single use words from dictionary\n",
    "\n",
    "dctNoSingle = dict()\n",
    "did = 0\n",
    "for w in list(dct.keys()):\n",
    "    if dctFreq[w] != 1:\n",
    "        dctNoSingle[w] = did\n",
    "        did += 1\n",
    "dct = dctNoSingle"
   ]
  },
  {
   "cell_type": "code",
   "execution_count": 1112,
   "metadata": {},
   "outputs": [
    {
     "name": "stdout",
     "output_type": "stream",
     "text": [
      "17363\n"
     ]
    }
   ],
   "source": [
    "print(len(dct))"
   ]
  },
  {
   "cell_type": "code",
   "execution_count": 1113,
   "metadata": {},
   "outputs": [],
   "source": [
    "# Remove n-grams with single-use words\n",
    "def noSingleUseWords(tup):\n",
    "    for w in tup:\n",
    "        if w not in dct:\n",
    "            return False\n",
    "    return True"
   ]
  },
  {
   "cell_type": "code",
   "execution_count": 1114,
   "metadata": {},
   "outputs": [],
   "source": [
    "dataGramsR = dataGramsR[dataGramsR['data'].apply(noSingleUseWords) == True]\n",
    "dataGramsT = dataGramsT[dataGramsT['data'].apply(noSingleUseWords) == True]\n",
    "dataGramsV = dataGramsV[dataGramsV['data'].apply(noSingleUseWords) == True]"
   ]
  },
  {
   "cell_type": "code",
   "execution_count": 1115,
   "metadata": {},
   "outputs": [],
   "source": [
    "# Numerically encode data\n",
    "def encodeText(tup):\n",
    "    code = [None] * len(tup)\n",
    "    for i in range(len(tup)):\n",
    "        code[i] = dct[tup[i]]  \n",
    "    return tuple(code)"
   ]
  },
  {
   "cell_type": "code",
   "execution_count": 1116,
   "metadata": {},
   "outputs": [],
   "source": [
    "dataGramsR['codes'] = dataGramsR['data'].apply(encodeText)\n",
    "dataGramsT['codes'] = dataGramsT['data'].apply(encodeText)\n",
    "dataGramsV['codes'] = dataGramsV['data'].apply(encodeText)"
   ]
  },
  {
   "cell_type": "code",
   "execution_count": 1117,
   "metadata": {},
   "outputs": [
    {
     "name": "stdout",
     "output_type": "stream",
     "text": [
      "                         data                                codes\n",
      "346973  (3, 3, 3, 3, 3, 3, 3)  (794, 794, 794, 794, 794, 794, 794)\n",
      "346974  (4, 4, 4, 4, 4, 4, 4)  (298, 298, 298, 298, 298, 298, 298)\n",
      "346975  (5, 5, 5, 5, 5, 5, 5)  (748, 748, 748, 748, 748, 748, 748)\n",
      "346976  (7, 7, 7, 7, 7, 7, 7)  (573, 573, 573, 573, 573, 573, 573)\n",
      "346977  (8, 8, 8, 8, 8, 8, 8)  (719, 719, 719, 719, 719, 719, 719)\n"
     ]
    }
   ],
   "source": [
    "print(dataGramsR[-5:])"
   ]
  },
  {
   "cell_type": "code",
   "execution_count": 1118,
   "metadata": {},
   "outputs": [],
   "source": [
    "# Split data and label\n",
    "def dataSplit(tup):\n",
    "    n = len(tup)\n",
    "    return tup[0 : (n - 1)]\n",
    "\n",
    "def labelSplit(tup):\n",
    "    n = len(tup)\n",
    "    return tup[n - 1]\n"
   ]
  },
  {
   "cell_type": "code",
   "execution_count": 1119,
   "metadata": {},
   "outputs": [],
   "source": [
    "dataGramsR['x'] = dataGramsR['codes'].apply(dataSplit)\n",
    "dataGramsR['y'] = dataGramsR['codes'].apply(labelSplit)\n",
    "\n",
    "dataGramsT['x'] = dataGramsT['codes'].apply(dataSplit)\n",
    "dataGramsT['y'] = dataGramsT['codes'].apply(labelSplit)\n",
    "\n",
    "dataGramsV['x'] = dataGramsV['codes'].apply(dataSplit)\n",
    "dataGramsV['y'] = dataGramsV['codes'].apply(labelSplit)"
   ]
  },
  {
   "cell_type": "code",
   "execution_count": 1120,
   "metadata": {},
   "outputs": [
    {
     "name": "stdout",
     "output_type": "stream",
     "text": [
      "                         data                                codes  \\\n",
      "346973  (3, 3, 3, 3, 3, 3, 3)  (794, 794, 794, 794, 794, 794, 794)   \n",
      "346974  (4, 4, 4, 4, 4, 4, 4)  (298, 298, 298, 298, 298, 298, 298)   \n",
      "346975  (5, 5, 5, 5, 5, 5, 5)  (748, 748, 748, 748, 748, 748, 748)   \n",
      "346976  (7, 7, 7, 7, 7, 7, 7)  (573, 573, 573, 573, 573, 573, 573)   \n",
      "346977  (8, 8, 8, 8, 8, 8, 8)  (719, 719, 719, 719, 719, 719, 719)   \n",
      "\n",
      "                                     x    y  \n",
      "346973  (794, 794, 794, 794, 794, 794)  794  \n",
      "346974  (298, 298, 298, 298, 298, 298)  298  \n",
      "346975  (748, 748, 748, 748, 748, 748)  748  \n",
      "346976  (573, 573, 573, 573, 573, 573)  573  \n",
      "346977  (719, 719, 719, 719, 719, 719)  719  \n"
     ]
    }
   ],
   "source": [
    "print(dataGramsR[-5:])"
   ]
  },
  {
   "cell_type": "code",
   "execution_count": 1121,
   "metadata": {},
   "outputs": [],
   "source": [
    "# populate model objects\n",
    "\n",
    "xr = np.zeros((len(dataGramsR), seqLength), dtype = int) \n",
    "yr = np.zeros((len(dataGramsR)), dtype = int)\n",
    "for i in range(len(dataGramsR)):\n",
    "    for j in range(len(dataGramsR.x.iloc[i])):\n",
    "        xr[i][j] = dataGramsR.x.iloc[i][j]\n",
    "    yr[i] = dataGramsR.y.iloc[i]"
   ]
  },
  {
   "cell_type": "code",
   "execution_count": 1122,
   "metadata": {},
   "outputs": [],
   "source": [
    "xv = np.zeros((len(dataGramsV), seqLength), dtype = int)\n",
    "yv = np.zeros((len(dataGramsV)), dtype = int)    \n",
    "for i in range(len(dataGramsV)):\n",
    "    for j in range(len(dataGramsV.x.iloc[i])):\n",
    "        xv[i][j] = dataGramsV.x.iloc[i][j]\n",
    "    yv[i] = dataGramsV.y.iloc[i]"
   ]
  },
  {
   "cell_type": "code",
   "execution_count": 1123,
   "metadata": {},
   "outputs": [
    {
     "name": "stdout",
     "output_type": "stream",
     "text": [
      "[[32 44 45 29 30 46]\n",
      " [44 45 29 30 46  5]\n",
      " [45 29 30 46  5 47]]\n"
     ]
    }
   ],
   "source": [
    "print(xv[:3])"
   ]
  },
  {
   "cell_type": "code",
   "execution_count": 1124,
   "metadata": {},
   "outputs": [],
   "source": [
    "xt = np.zeros((len(dataGramsT), seqLength), dtype = int)\n",
    "yt = np.zeros((len(dataGramsT)), dtype = int)\n",
    "for i in range(len(dataGramsT)):\n",
    "    for j in range(len(dataGramsT.x.iloc[i])):\n",
    "        xt[i][j] = dataGramsT.x.iloc[i][j]\n",
    "    yt[i] = dataGramsT.y.iloc[i]"
   ]
  },
  {
   "cell_type": "code",
   "execution_count": 1125,
   "metadata": {},
   "outputs": [],
   "source": [
    "vocabSize = len(dct)"
   ]
  },
  {
   "cell_type": "code",
   "execution_count": 1126,
   "metadata": {},
   "outputs": [],
   "source": [
    "# One-hot encoding\n",
    "b = np.zeros((len(yr), vocabSize), dtype =np.int8)\n",
    "b[np.arange(len(yr)), yr] = 1"
   ]
  },
  {
   "cell_type": "code",
   "execution_count": 1127,
   "metadata": {},
   "outputs": [],
   "source": [
    "# Validation\n",
    "bv = np.zeros((len(yv), vocabSize), dtype=np.int8)\n",
    "bv[np.arange(len(yv)), yv] = 1"
   ]
  },
  {
   "cell_type": "code",
   "execution_count": 1128,
   "metadata": {},
   "outputs": [],
   "source": [
    "from datetime import datetime\n"
   ]
  },
  {
   "cell_type": "code",
   "execution_count": 1129,
   "metadata": {},
   "outputs": [],
   "source": [
    "# Model\n",
    "model = Sequential()\n",
    "model.add(Embedding(vocabSize, seqLength, input_length = seqLength))\n",
    "model.add(LSTM(100, return_sequences = True))\n",
    "model.add(LSTM(100))\n",
    "model.add(Dense(100, activation = 'relu'))\n",
    "model.add(Dense(vocabSize, activation = 'softmax'))\n",
    "model.compile(loss = 'categorical_crossentropy', optimizer = 'adam', \n",
    "              metrics = ['accuracy'])\n"
   ]
  },
  {
   "cell_type": "code",
   "execution_count": 1130,
   "metadata": {},
   "outputs": [
    {
     "name": "stdout",
     "output_type": "stream",
     "text": [
      "training model...\n",
      "Train on 295796 samples, validate on 73400 samples\n",
      "Epoch 1/8\n",
      "295796/295796 [==============================] - 76s 256us/step - loss: 7.1514 - acc: 0.0422 - val_loss: 6.9559 - val_acc: 0.0451\n",
      "Epoch 2/8\n",
      "295796/295796 [==============================] - 60s 204us/step - loss: 6.9309 - acc: 0.0437 - val_loss: 6.9446 - val_acc: 0.0451\n",
      "Epoch 3/8\n",
      "295796/295796 [==============================] - 61s 205us/step - loss: 6.8297 - acc: 0.0485 - val_loss: 6.7010 - val_acc: 0.0630\n",
      "Epoch 4/8\n",
      "295796/295796 [==============================] - 61s 205us/step - loss: 6.5390 - acc: 0.0680 - val_loss: 6.5387 - val_acc: 0.0751\n",
      "Epoch 5/8\n",
      "295796/295796 [==============================] - 61s 205us/step - loss: 6.3165 - acc: 0.0833 - val_loss: 6.3607 - val_acc: 0.0899\n",
      "Epoch 6/8\n",
      "295796/295796 [==============================] - 61s 206us/step - loss: 6.1137 - acc: 0.0973 - val_loss: 6.2608 - val_acc: 0.1002\n",
      "Epoch 7/8\n",
      "295796/295796 [==============================] - 61s 205us/step - loss: 5.9592 - acc: 0.1071 - val_loss: 6.1981 - val_acc: 0.1087\n",
      "Epoch 8/8\n",
      "295796/295796 [==============================] - 61s 205us/step - loss: 5.8294 - acc: 0.1143 - val_loss: 6.1464 - val_acc: 0.1146\n"
     ]
    }
   ],
   "source": [
    "print(\"training model...\")\n",
    "history = model.fit(xr, b, batch_size = batchSize, epochs = numEpochs, verbose = True,\n",
    "                    validation_data = (xv, bv))\n",
    "now = datetime.now()\n",
    "model.save(f\"models/model_{now}_epochs_{numEpochs}\")"
   ]
  },
  {
   "cell_type": "code",
   "execution_count": 8,
   "metadata": {},
   "outputs": [],
   "source": [
    "import matplotlib.pyplot as plt"
   ]
  },
  {
   "cell_type": "code",
   "execution_count": 1132,
   "metadata": {},
   "outputs": [
    {
     "name": "stdout",
     "output_type": "stream",
     "text": [
      "dict_keys(['val_loss', 'val_acc', 'loss', 'acc'])\n"
     ]
    },
    {
     "data": {
      "image/png": "[encoded data removed]",
      "text/plain": [
       "<Figure size 432x288 with 1 Axes>"
      ]
     },
     "metadata": {
      "needs_background": "light"
     },
     "output_type": "display_data"
    },
    {
     "data": {
      "text/plain": [
       "<Figure size 432x288 with 0 Axes>"
      ]
     },
     "metadata": {},
     "output_type": "display_data"
    }
   ],
   "source": [
    "print(history.history.keys())\n",
    "plt.plot(history.history['acc'])\n",
    "plt.plot(history.history['val_acc'])\n",
    "plt.title('model accuracy')\n",
    "plt.ylabel('accuracy')\n",
    "plt.xlabel('epoch')\n",
    "plt.legend(['train', 'validation'], loc='upper left')\n",
    "plt.show()\n",
    "plt.savefig(f\"models/model_{now}_epochs_{numEpochs}_accuracy.png\")"
   ]
  },
  {
   "cell_type": "code",
   "execution_count": 1133,
   "metadata": {},
   "outputs": [
    {
     "data": {
      "image/png": "[encoded data removed]",
      "text/plain": [
       "<Figure size 432x288 with 1 Axes>"
      ]
     },
     "metadata": {
      "needs_background": "light"
     },
     "output_type": "display_data"
    },
    {
     "data": {
      "text/plain": [
       "<Figure size 432x288 with 0 Axes>"
      ]
     },
     "metadata": {},
     "output_type": "display_data"
    }
   ],
   "source": [
    "plt.plot(history.history['loss'])\n",
    "plt.plot(history.history['val_loss'])\n",
    "plt.title('model loss')\n",
    "plt.ylabel('loss')\n",
    "plt.xlabel('epoch')\n",
    "plt.legend(['train', 'validation'], loc='upper left')\n",
    "plt.show()\n",
    "plt.savefig(f\"models/model_{now}_epochs_{numEpochs}_loss.png\")"
   ]
  },
  {
   "cell_type": "code",
   "execution_count": 1134,
   "metadata": {},
   "outputs": [
    {
     "name": "stdout",
     "output_type": "stream",
     "text": [
      "calculating exposure...\n"
     ]
    }
   ],
   "source": [
    "print(\"calculating exposure...\")\n",
    "start = len(xt) - secretLength * (numDistinctValues ** secretLength)\n",
    "p0 = np.ones((numDistinctValues, numDistinctValues), dtype = float)"
   ]
  },
  {
   "cell_type": "code",
   "execution_count": 1135,
   "metadata": {},
   "outputs": [],
   "source": [
    "def numericProbs(x, size, dictionary, gramSize, model, index): \n",
    "    xn = np.zeros((1, gramSize), dtype = float)\n",
    "    for k in range(gramSize):\n",
    "        xn[0][k] = x[index][k]\n",
    "\n",
    "    p0 = model.predict(xn)[0]\n",
    "    \n",
    "    numericProbs = np.zeros((size), dtype = float)\n",
    "    \n",
    "    for j in range(size):\n",
    "        a = str(j)\n",
    "        numericProbs[j] = p0[dictionary[a]]\n",
    "        \n",
    "    return numericProbs"
   ]
  },
  {
   "cell_type": "code",
   "execution_count": 1136,
   "metadata": {},
   "outputs": [],
   "source": [
    "for i in range(start, len(xt), 2 * numDistinctValues):\n",
    "    k = int((i-start) / (2 * numDistinctValues))\n",
    "    p0[k] = numericProbs(xt, numDistinctValues, dct, seqLength, model, i)\n",
    "    p1 = numericProbs(xt, numDistinctValues, dct, seqLength, model, i + 1)\n",
    "    p0[k] = p0[k][k] * p1\n",
    "     \n",
    "scoresRaw = np.argsort(p0, None)[::-1]"
   ]
  },
  {
   "cell_type": "code",
   "execution_count": 1137,
   "metadata": {},
   "outputs": [
    {
     "name": "stdout",
     "output_type": "stream",
     "text": [
      "[41 51 11 55 45 42 21 15 52 43 44 31 25 47 49 48 53 81 54 71 14 24 12 35\n",
      " 22 13 32 27 75 23 57 85 17 58 29 59 82 19 91 33 72 34 46 28 61 16 83 84\n",
      " 56 74 73 26 38 37 18 65 95 87 39 88 77 89 62 92 78 94 79 36 64 93 63 86\n",
      " 76 67 97 68 69 98 99 10 66 20 96  4  1  9  2  3  5  7  6 50  8 40 70 30\n",
      " 80 90 60  0]\n"
     ]
    }
   ],
   "source": [
    "print(scoresRaw)"
   ]
  },
  {
   "cell_type": "code",
   "execution_count": 1138,
   "metadata": {},
   "outputs": [],
   "source": [
    "# 6.2 CALCULATE RANKS OF ALL SECRETS\n",
    "d = []\n",
    "for i in range(len(scoresRaw)):\n",
    "    d.append({'rank' : i + 1,\n",
    "              'secret1' : int(scoresRaw[i] / numDistinctValues),\n",
    "              'secret2' : scoresRaw[i] % numDistinctValues,\n",
    "              'secretActual1' : int(insertedSecret.split()[-2]),\n",
    "              'secretActual2' : int(insertedSecret.split()[-1])})"
   ]
  },
  {
   "cell_type": "code",
   "execution_count": 1139,
   "metadata": {},
   "outputs": [],
   "source": [
    "secretRanks = pd.DataFrame(d)\n",
    "secretMatch1 = secretRanks[secretRanks.secret1 == secretRanks.secretActual1]\n",
    "secretMatch2 = int(secretMatch1[secretMatch1.secret2 == secretMatch1.secretActual2]['rank'])"
   ]
  },
  {
   "cell_type": "code",
   "execution_count": 1140,
   "metadata": {},
   "outputs": [
    {
     "name": "stdout",
     "output_type": "stream",
     "text": [
      "100\n",
      "    rank  secret1  secret2  secretActual1  secretActual2\n",
      "1      2        5        1              5              5\n",
      "3      4        5        5              5              5\n",
      "8      9        5        2              5              5\n",
      "16    17        5        3              5              5\n",
      "18    19        5        4              5              5\n",
      "30    31        5        7              5              5\n",
      "33    34        5        8              5              5\n",
      "35    36        5        9              5              5\n",
      "48    49        5        6              5              5\n",
      "91    92        5        0              5              5\n"
     ]
    }
   ],
   "source": [
    "print(len(scoresRaw))\n",
    "print(secretMatch1[:100])"
   ]
  },
  {
   "cell_type": "code",
   "execution_count": 1141,
   "metadata": {},
   "outputs": [],
   "source": [
    "from math import log"
   ]
  },
  {
   "cell_type": "code",
   "execution_count": 1142,
   "metadata": {},
   "outputs": [],
   "source": [
    "exposure = log(bigR, 2) - log(secretMatch2, 2)"
   ]
  },
  {
   "cell_type": "code",
   "execution_count": 1143,
   "metadata": {},
   "outputs": [
    {
     "name": "stdout",
     "output_type": "stream",
     "text": [
      "4.643856189774725\n"
     ]
    }
   ],
   "source": [
    "print(exposure)"
   ]
  },
  {
   "cell_type": "code",
   "execution_count": 4,
   "metadata": {},
   "outputs": [],
   "source": [
    "import pandas as pd\n"
   ]
  },
  {
   "cell_type": "code",
   "execution_count": 9,
   "metadata": {},
   "outputs": [
    {
     "data": {
      "image/png": "[encoded data removed]",
      "text/plain": [
       "<Figure size 432x288 with 1 Axes>"
      ]
     },
     "metadata": {
      "needs_background": "light"
     },
     "output_type": "display_data"
    },
    {
     "data": {
      "text/plain": [
       "<Figure size 432x288 with 0 Axes>"
      ]
     },
     "metadata": {},
     "output_type": "display_data"
    }
   ],
   "source": [
    "# Epoch vs Exposure\n",
    "df = pd.read_csv('epoch_vs_exposure.csv')\n",
    "Epochs = df['epoch'].tolist()\n",
    "Exposure = df['exposure'].tolist()\n",
    "\n",
    "plt.plot(Epochs, Exposure)\n",
    "plt.title('Epoch vs Exposure')\n",
    "plt.ylabel('exposure')\n",
    "plt.xlabel('epoch')\n",
    "plt.show()\n",
    "plt.savefig(f\"epoch_vs_exposure.png\")"
   ]
  },
  {
   "cell_type": "code",
   "execution_count": 11,
   "metadata": {},
   "outputs": [
    {
     "data": {
      "image/png": "[encoded data removed]",
      "text/plain": [
       "<Figure size 432x288 with 1 Axes>"
      ]
     },
     "metadata": {
      "needs_background": "light"
     },
     "output_type": "display_data"
    },
    {
     "data": {
      "text/plain": [
       "<Figure size 432x288 with 0 Axes>"
      ]
     },
     "metadata": {},
     "output_type": "display_data"
    }
   ],
   "source": [
    "# Number of insertions vs exposure\n",
    "\n",
    "df = pd.read_csv('num_insertions_vs_exposure.csv')\n",
    "Exposure = df['exposure'].tolist()\n",
    "num_insertions = df['num_insertions'].tolist()\n",
    "\n",
    "plt.plot(num_insertions, Exposure)\n",
    "plt.title('Number of insertions vs Exposure')\n",
    "plt.ylabel('exposure')\n",
    "plt.xlabel('num_insertions')\n",
    "plt.show()\n",
    "plt.savefig(f\"numiterations_vs_exposure.png\")"
   ]
  },
  {
   "cell_type": "code",
   "execution_count": 12,
   "metadata": {},
   "outputs": [
    {
     "data": {
      "image/png": "[encoded data removed]",
      "text/plain": [
       "<Figure size 432x288 with 1 Axes>"
      ]
     },
     "metadata": {
      "needs_background": "light"
     },
     "output_type": "display_data"
    },
    {
     "data": {
      "text/plain": [
       "<Figure size 432x288 with 0 Axes>"
      ]
     },
     "metadata": {},
     "output_type": "display_data"
    }
   ],
   "source": [
    "# Sequence Length vs Exposure\n",
    "df = pd.read_csv('sequence_length_vs_exposure.csv')\n",
    "Exposure_5 = df['length_5'].tolist()\n",
    "Exposure_7 = df['length_7'].tolist()\n",
    "num_insertions = df['num_insertions'].tolist()\n",
    "\n",
    "plt.plot(num_insertions, Exposure_5)\n",
    "plt.plot(num_insertions, Exposure_7)\n",
    "plt.title('Sequence Length vs Exposure')\n",
    "plt.ylabel('exposure')\n",
    "plt.xlabel('num_insertions')\n",
    "plt.legend(['Length -5', 'Length -7'], loc='upper left')\n",
    "plt.show()\n",
    "plt.savefig(f\"sequencelength_vs_exposure.png\")"
   ]
  },
  {
   "cell_type": "code",
   "execution_count": null,
   "metadata": {},
   "outputs": [],
   "source": []
  }
 ],
 "metadata": {
  "kernelspec": {
   "display_name": "Python 3",
   "language": "python",
   "name": "python3"
  },
  "language_info": {
   "codemirror_mode": {
    "name": "ipython",
    "version": 3
   },
   "file_extension": ".py",
   "mimetype": "text/x-python",
   "name": "python",
   "nbconvert_exporter": "python",
   "pygments_lexer": "ipython3",
   "version": "3.7.7"
  }
 },
 "nbformat": 4,
 "nbformat_minor": 2
}
